{
  "cells": [
    {
      "cell_type": "markdown",
      "id": "ce556dbd",
      "metadata": {
        "id": "ce556dbd"
      },
      "source": [
        "Suppose, We're in a situation to create a Sentiment analysis model, we have the dataset available but the problem here is machine will not going to understand the sentences of any languages, we have to clean those dataset by using stopwords, deleting punctuation and many more irrelevant things inside the data and we have to make it upto that level where we can feed those data to our macine or deep learing algorithms from that we can get some output with it.\n",
        "\n",
        "We are assuming you have a knowledge of Python, and if not, nothing to worry, we will give you some overview of it.\n"
      ]
    },
    {
      "cell_type": "markdown",
      "id": "68f64e7e",
      "metadata": {
        "id": "68f64e7e"
      },
      "source": [
        "## Python String\n",
        "\n",
        "A String is like a sequence of Characters.\n",
        "\n",
        "A character is just a symbol. Like, the English language has 26 characters.\n",
        "\n",
        "Computers don't deal with characters, they deal with binary (numbers) only. Even though you seen characters but internally it is stored and manipulated with the combination of 0's and 1's. The conversion of character to a number is known as encoding, and the reverse is decoding.\n",
        "\n",
        "String literally surrounded by a single or double quotations like:\n",
        "\n"
      ]
    },
    {
      "cell_type": "code",
      "execution_count": null,
      "id": "205780d2",
      "metadata": {
        "id": "205780d2",
        "outputId": "c04c178e-10e8-4a9e-8d15-ef7344e7e5bd"
      },
      "outputs": [
        {
          "name": "stdout",
          "output_type": "stream",
          "text": [
            "DaTA\n"
          ]
        }
      ],
      "source": [
        "a = 'DaTA'\n",
        "print(a)"
      ]
    },
    {
      "cell_type": "markdown",
      "id": "0affc807",
      "metadata": {
        "id": "0affc807"
      },
      "source": [
        "## Strings are array\n",
        "\n",
        "you can gete the ouput upto cerntain range of characters by usingthe slicing index.\n",
        "\n",
        "Specify the start index and end index, which is separated by colon, to return a part of the string."
      ]
    },
    {
      "cell_type": "markdown",
      "id": "b89937ce",
      "metadata": {
        "id": "b89937ce"
      },
      "source": [
        "Like in other popular programming languages, strings in Python are arrays of bytes represents unicode characters. \n",
        "\n",
        "However, Python doesn't have the character as the datatype, single character is just simply a string with length of 1.\n",
        "\n",
        "We used square bracket to access elements from the string"
      ]
    },
    {
      "cell_type": "code",
      "execution_count": null,
      "id": "70f9f81e",
      "metadata": {
        "id": "70f9f81e",
        "outputId": "487d56b9-707f-46d7-a1f3-97c57f32f125"
      },
      "outputs": [
        {
          "name": "stdout",
          "output_type": "stream",
          "text": [
            "s\n"
          ]
        }
      ],
      "source": [
        "# Get the character at position 4 (Here, indexing start from 0)\n",
        "a = 'Dataset'\n",
        "print(a[4])"
      ]
    },
    {
      "cell_type": "markdown",
      "id": "a99f4338",
      "metadata": {
        "id": "a99f4338"
      },
      "source": [
        "## Slicing"
      ]
    },
    {
      "cell_type": "markdown",
      "id": "20a2f742",
      "metadata": {
        "id": "20a2f742"
      },
      "source": [
        "You can get the output upto certain range of characters by using the slicing index.\n",
        "\n",
        "Specify the start index and end index. which is seperated by colon, to return a part of the string"
      ]
    },
    {
      "cell_type": "code",
      "execution_count": null,
      "id": "fe75c3ee",
      "metadata": {
        "id": "fe75c3ee",
        "outputId": "edff86a6-2d67-43be-e3fb-8b4cec02c608"
      },
      "outputs": [
        {
          "name": "stdout",
          "output_type": "stream",
          "text": [
            "a t\n",
            "                                                  \n",
            "a te\n",
            "--------------------------------------------------\n",
            "t \n"
          ]
        }
      ],
      "source": [
        "# To get the output from the position 3 to 6 (not included)\n",
        "a = 'Data test'\n",
        "print(a[3:6])\n",
        "print(\" \"*50)\n",
        "\n",
        "# To get the output by negative indexing from 6 position to 2 position.\n",
        "print(a[-6:-2])\n",
        "print(\"-\"*50)\n",
        "\n",
        "# Get the results from position 2 to 6 but give result with the increment of 2\n",
        "print(a[2:6:2])"
      ]
    },
    {
      "cell_type": "markdown",
      "id": "344e54fd",
      "metadata": {
        "id": "344e54fd"
      },
      "source": [
        "## String Methods"
      ]
    },
    {
      "cell_type": "markdown",
      "id": "bfe6afcf",
      "metadata": {
        "id": "bfe6afcf"
      },
      "source": [
        "Python have set of built-in methods that you can use on strings"
      ]
    },
    {
      "cell_type": "code",
      "execution_count": null,
      "id": "4176861c",
      "metadata": {
        "id": "4176861c",
        "outputId": "c7077e06-6559-47ea-f172-3df5c4e4c2b7"
      },
      "outputs": [
        {
          "name": "stdout",
          "output_type": "stream",
          "text": [
            "['data', 'test']\n"
          ]
        }
      ],
      "source": [
        "# strip() will remove whitespace in the string from begining to the end.\n",
        "a = 'data test'\n",
        "print(a.split())"
      ]
    },
    {
      "cell_type": "code",
      "execution_count": null,
      "id": "7ab3dd70",
      "metadata": {
        "id": "7ab3dd70",
        "outputId": "dea548de-0261-4a58-adf6-338a93e5ad3d"
      },
      "outputs": [
        {
          "name": "stdout",
          "output_type": "stream",
          "text": [
            "data test\n",
            "DATA TEST\n"
          ]
        }
      ],
      "source": [
        "# lowe() will lowercase the word which are upper in the sentences.\n",
        "a = \"daTa test\"\n",
        "print(a.lower())\n",
        "\n",
        "#upper() will transform lowercase into upper.\n",
        "print(a.upper())"
      ]
    },
    {
      "cell_type": "code",
      "execution_count": null,
      "id": "39e789e0",
      "metadata": {
        "id": "39e789e0",
        "outputId": "df64fc3f-78de-4bba-9874-587f1f16c70e"
      },
      "outputs": [
        {
          "ename": "SyntaxError",
          "evalue": "unexpected EOF while parsing (3827273598.py, line 3)",
          "output_type": "error",
          "traceback": [
            "\u001b[1;36m  Input \u001b[1;32mIn [5]\u001b[1;36m\u001b[0m\n\u001b[1;33m    print(a.replace(\"i\", \"me\")\u001b[0m\n\u001b[1;37m                              ^\u001b[0m\n\u001b[1;31mSyntaxError\u001b[0m\u001b[1;31m:\u001b[0m unexpected EOF while parsing\n"
          ]
        }
      ],
      "source": [
        "# Replace() will transform lowercase into upper.\n",
        "a = \"data test\"\n",
        "print(a.replace(\"i\", \"me\")"
      ]
    },
    {
      "cell_type": "code",
      "execution_count": null,
      "id": "eb40122a",
      "metadata": {
        "id": "eb40122a",
        "outputId": "e7a36559-f483-41e7-b10a-34cde9b29da8"
      },
      "outputs": [
        {
          "name": "stdout",
          "output_type": "stream",
          "text": [
            "['data test']\n"
          ]
        }
      ],
      "source": [
        "# split() will split the strings into substring if if finds any instances of seprator.\n",
        "a = 'data test'\n",
        "print(a.split(\"o\"))"
      ]
    },
    {
      "cell_type": "markdown",
      "id": "586984b9",
      "metadata": {
        "id": "586984b9"
      },
      "source": [
        "## String concatenation"
      ]
    },
    {
      "cell_type": "markdown",
      "id": "f2fd1d57",
      "metadata": {
        "id": "f2fd1d57"
      },
      "source": [
        "To concatenate or combine two strings by use of + operator."
      ]
    },
    {
      "cell_type": "code",
      "execution_count": null,
      "id": "bb84add1",
      "metadata": {
        "colab": {
          "base_uri": "https://localhost:8080/"
        },
        "id": "bb84add1",
        "outputId": "685d9698-179f-46e5-948c-8be53f99c1f0"
      },
      "outputs": [
        {
          "output_type": "stream",
          "name": "stdout",
          "text": [
            "data test train\n"
          ]
        }
      ],
      "source": [
        "a = 'data test'\n",
        "b = 'train'\n",
        "print(a + \" \" + b)"
      ]
    },
    {
      "cell_type": "markdown",
      "id": "cef91b73",
      "metadata": {
        "id": "cef91b73"
      },
      "source": [
        "## Import Text"
      ]
    },
    {
      "cell_type": "markdown",
      "id": "0a292ff9",
      "metadata": {
        "id": "0a292ff9"
      },
      "source": [
        "In NLP dataset would be in .txt, .csv type of format, you need to import it and try to clean the irrelevant datas from the dataset. Here we'll going to understand Python file handling: create, open, read, append, write"
      ]
    },
    {
      "cell_type": "markdown",
      "id": "3e03b840",
      "metadata": {
        "id": "3e03b840"
      },
      "source": [
        "#### Create a text file"
      ]
    },
    {
      "cell_type": "markdown",
      "id": "b1185287",
      "metadata": {
        "id": "b1185287"
      },
      "source": [
        "with the use of python you can create the text files by using code, we have demostrated here how you can do this."
      ]
    },
    {
      "cell_type": "code",
      "execution_count": null,
      "id": "22a36fcf",
      "metadata": {
        "id": "22a36fcf"
      },
      "outputs": [],
      "source": [
        "# Step: 1"
      ]
    },
    {
      "cell_type": "code",
      "execution_count": null,
      "id": "bc43958a",
      "metadata": {
        "id": "bc43958a"
      },
      "outputs": [],
      "source": [
        "file = open(\"dataset.txt\", \"w+\")"
      ]
    },
    {
      "cell_type": "code",
      "execution_count": null,
      "id": "0bb47baf",
      "metadata": {
        "id": "0bb47baf",
        "outputId": "3fcef1bb-f8c8-4280-8374-f84174b48d63"
      },
      "outputs": [
        {
          "data": {
            "text/plain": [
              "<_io.TextIOWrapper name='dataset.txt' mode='w+' encoding='cp1252'>"
            ]
          },
          "execution_count": 12,
          "metadata": {},
          "output_type": "execute_result"
        }
      ],
      "source": [
        "file"
      ]
    },
    {
      "cell_type": "markdown",
      "id": "4e262e05",
      "metadata": {
        "id": "4e262e05"
      },
      "source": [
        "Here we declared file as variable to open a file named iNeuron.txt.Open takes two arguments, first one is for the file we want to open and second one represents some kind of permissions or operation we want to do into that file.\n",
        "\n",
        "Here we taken \"w\" letter as an arguement, which indicates write and will create a file if it is not exist in the library\n",
        "\n",
        "That \"+\" signs indicate both read and write\n",
        "\n",
        "The other option beside \"w\" are, \"r\" for read, and \"a\" for append"
      ]
    },
    {
      "cell_type": "code",
      "execution_count": null,
      "id": "c7c34fbe",
      "metadata": {
        "id": "c7c34fbe"
      },
      "outputs": [],
      "source": [
        "# Step: 2\n",
        "for i in range(5):\n",
        "    file.write(\"Line number is %d\\r\\n\"%(i+1))"
      ]
    },
    {
      "cell_type": "markdown",
      "id": "14163d09",
      "metadata": {
        "id": "14163d09"
      },
      "source": [
        "We have a loop that runs over a range of 5 numbers.\n",
        "\n",
        "Here using the write function for entering data into the file.\n",
        "\n",
        "The Output we want to iterate in the file is \"Line number is\", which we already declared with write function and then percent d (display integers)"
      ]
    },
    {
      "cell_type": "code",
      "execution_count": null,
      "id": "4b05c5d1",
      "metadata": {
        "id": "4b05c5d1"
      },
      "outputs": [],
      "source": [
        "# Step: 3\n",
        "file.close()"
      ]
    },
    {
      "cell_type": "markdown",
      "id": "afcdbc55",
      "metadata": {
        "id": "afcdbc55"
      },
      "source": [
        "This will close the instances of the file iNeuron.txt stored.\n",
        "\n",
        "Here is the result after the execution of code."
      ]
    },
    {
      "cell_type": "markdown",
      "id": "6bf6dd9b",
      "metadata": {
        "id": "6bf6dd9b"
      },
      "source": [
        "## Append data to a file"
      ]
    },
    {
      "cell_type": "markdown",
      "id": "a95dda0a",
      "metadata": {
        "id": "a95dda0a"
      },
      "source": [
        "You can also append a new text inside the existing file or in a new file"
      ]
    },
    {
      "cell_type": "code",
      "execution_count": null,
      "id": "4fe70f99",
      "metadata": {
        "id": "4fe70f99"
      },
      "outputs": [],
      "source": [
        "# Step: 1\n",
        "file  = open(\"dataset.txt\", 'a+')"
      ]
    },
    {
      "cell_type": "markdown",
      "id": "36eb5773",
      "metadata": {
        "id": "36eb5773"
      },
      "source": [
        "Once again \"+\" sign is the code which means if.txt file are not available, this plus sign will create a new file but here is not any requirment to create a new file."
      ]
    },
    {
      "cell_type": "code",
      "execution_count": null,
      "id": "3d43d800",
      "metadata": {
        "id": "3d43d800"
      },
      "outputs": [],
      "source": [
        "# Step: 2\n",
        "\n",
        "for i in range(5):\n",
        "    file.write(\"Line number is %d\\r\\n\" % (i+1))"
      ]
    },
    {
      "cell_type": "markdown",
      "id": "337a24ae",
      "metadata": {
        "id": "337a24ae"
      },
      "source": [
        "This will write data inito fine in append mode."
      ]
    },
    {
      "cell_type": "code",
      "execution_count": null,
      "id": "f2755eec",
      "metadata": {
        "id": "f2755eec"
      },
      "outputs": [],
      "source": [
        "# Step: 3\n",
        "file.close()\n",
        "\n",
        "# We seen earlier this close function will close the instances of the file iNeuron.txt stored"
      ]
    },
    {
      "cell_type": "code",
      "execution_count": null,
      "id": "267266a5",
      "metadata": {
        "id": "267266a5"
      },
      "outputs": [],
      "source": [
        ""
      ]
    },
    {
      "cell_type": "markdown",
      "id": "1d872d5c",
      "metadata": {
        "id": "1d872d5c"
      },
      "source": [
        "## Read the files\n",
        "\n",
        "Not only you create.txt files in Python but you can also call.txt file in a \"read mode\"(r)"
      ]
    },
    {
      "cell_type": "code",
      "execution_count": null,
      "id": "a08b2315",
      "metadata": {
        "id": "a08b2315"
      },
      "outputs": [],
      "source": [
        "# Step 1: Open the file in read mode\n",
        "file = open(\"dataset.txt\", \"r\")"
      ]
    },
    {
      "cell_type": "code",
      "execution_count": null,
      "id": "b0623273",
      "metadata": {
        "id": "b0623273"
      },
      "outputs": [],
      "source": [
        "# Step2: Here we'll check, is our file is open or not, if yes we proceed\n",
        "\n",
        "if file.mode == 'r':\n",
        "    content = file.read()  # We used file.read() for reading the file data and store it in a variable."
      ]
    },
    {
      "cell_type": "code",
      "execution_count": null,
      "id": "12cee5a6",
      "metadata": {
        "id": "12cee5a6",
        "outputId": "b2f3b3b8-8043-4fd4-80b1-393b935526e7"
      },
      "outputs": [
        {
          "name": "stdout",
          "output_type": "stream",
          "text": [
            "Line number is 1\n",
            "\n",
            "Line number is 2\n",
            "\n",
            "Line number is 3\n",
            "\n",
            "Line number is 4\n",
            "\n",
            "Line number is 5\n",
            "\n",
            "Line number is 1\n",
            "\n",
            "Line number is 2\n",
            "\n",
            "Line number is 3\n",
            "\n",
            "Line number is 4\n",
            "\n",
            "Line number is 5\n",
            "\n",
            "\n",
            "Here is the ouput!\n"
          ]
        }
      ],
      "source": [
        "# Step 3: Printing the file\n",
        "print(content)\n",
        "print(\"Here is the ouput!\")"
      ]
    },
    {
      "cell_type": "markdown",
      "id": "b3909dd4",
      "metadata": {
        "id": "b3909dd4"
      },
      "source": [
        "## Files mode in Python"
      ]
    },
    {
      "cell_type": "markdown",
      "id": "78c02bc0",
      "metadata": {
        "id": "78c02bc0"
      },
      "source": [
        "'r': This is the default mode. It Opens file for reading.\n",
        "    \n",
        "'w': This Mode Opens file for writing. If file does not exist, if creates a new file. If file exists it truncates the file  \n",
        "\n",
        "\"x\": Creates a new file. If file already exists, the operation fails.\n",
        "\n",
        "\"a\": open file in append mode. If file does not exist, it creates a new file.\n",
        "\n",
        "\"t\": This is the default mode. It opens in text mode.\n",
        "\n",
        "\"b\": This opens in binary mode.\n",
        "\n",
        "\"+\": This will open a file for reading and writing (updating)"
      ]
    },
    {
      "cell_type": "code",
      "execution_count": null,
      "id": "606b0cfb",
      "metadata": {
        "id": "606b0cfb"
      },
      "outputs": [],
      "source": [
        ""
      ]
    },
    {
      "cell_type": "markdown",
      "id": "8012b80a",
      "metadata": {
        "id": "8012b80a"
      },
      "source": [
        "## Web Scraping with Python"
      ]
    },
    {
      "cell_type": "markdown",
      "id": "0338187e",
      "metadata": {
        "id": "0338187e"
      },
      "source": [
        "Suppose you have to pull large amount of data from websites and you want to fetch it as quickly as possible. How would you do it? Manually going to the website and collect those datas. It will be tedious work. So, \"Web Scraping\" will help you out in this situation. We scraping just makes this job easier and faster"
      ]
    },
    {
      "cell_type": "markdown",
      "id": "8166c27b",
      "metadata": {
        "id": "8166c27b"
      },
      "source": [
        "Here, we will do web scrapping with Python, starts with\n",
        "\n",
        "### 1: Why we do Web Scraping?"
      ]
    },
    {
      "cell_type": "markdown",
      "id": "a960e58d",
      "metadata": {
        "id": "a960e58d"
      },
      "source": [
        "Web Scraping wil be used to collect large amount of data from Websites. But why does someone have to collect such large amount of data from websits? To about this, wlets have to llok at the applications of web scraping"
      ]
    },
    {
      "cell_type": "markdown",
      "id": "ec0dff02",
      "metadata": {
        "id": "ec0dff02"
      },
      "source": [
        "##### Price Comaparison:\n",
        "Parsehub is providing such servies to useweb scraping to collect data from some online shopping websites and use to comapre price of products from another\n",
        "\n",
        "#### Gathering Emails:\n",
        "There are lots of companies that use emails as a medium for marketing, they use web scrapping to collect email id's and send bulk emails.\n",
        "\n",
        "#### Social Media Scrapping: \n",
        "Web Scrapping is used to collect data from Social media websites such as Twitter to find out what's trending in twitter\n",
        "\n",
        "#### Reasearch and Development: \n",
        "For reasearch purpose people do web scrapping to collect a large set of data (Statistics, General Information, temperature, etc) from websites, which are analyzed and used to carry out surveys or for R&D\n"
      ]
    },
    {
      "cell_type": "code",
      "execution_count": null,
      "id": "2e249adc",
      "metadata": {
        "id": "2e249adc"
      },
      "outputs": [],
      "source": [
        ""
      ]
    },
    {
      "cell_type": "markdown",
      "id": "816152b0",
      "metadata": {
        "id": "816152b0"
      },
      "source": [
        "### 2. What is Web Scraping and is it legal or not?"
      ]
    },
    {
      "cell_type": "markdown",
      "id": "db82c12a",
      "metadata": {
        "id": "db82c12a"
      },
      "source": [
        "Web Scraping is an automated to extract large amount of data from websites. And the websites data are unstructed  mose of the time. Web Scrapping will help you out to collect those unstructured data and stored it in a structured form. There are different ways to scrape websites such as online servies, APIs, or by writing your own code. Here, we'll see how to implementing the web scraping with python."
      ]
    },
    {
      "cell_type": "markdown",
      "id": "c053b086",
      "metadata": {
        "id": "c053b086"
      },
      "source": [
        "Coming to the question, is scrapping legal or not? Some website allow web scrapping and some not. To know whether website allows you to scrape it or not by website's \"robot.txt\" file. You can find this file just append \"/robots.txt\" to the URL that you want to scrape. Here, we're scrapping from FlipKart website. So, to see the \"robots.txt\" file URL is \"www.flipkart.com/robots.txt\""
      ]
    },
    {
      "cell_type": "code",
      "execution_count": null,
      "id": "0ffefe9a",
      "metadata": {
        "id": "0ffefe9a"
      },
      "outputs": [],
      "source": [
        ""
      ]
    },
    {
      "cell_type": "markdown",
      "id": "9b44843c",
      "metadata": {
        "id": "9b44843c"
      },
      "source": [
        "### 3. How does web scraping work?\n",
        "When we run the code for web scraping, a request is sent to the URL that you have mentioned in the code. As a response to the request, the server send the data and allows you to read the HTML or XML page. Then our code will parses the HTML or XML page, find the data and extract it"
      ]
    },
    {
      "cell_type": "markdown",
      "id": "728966c4",
      "metadata": {
        "id": "728966c4"
      },
      "source": [
        "To extract datas using web scraping with Python, you need to follow these basic steps:\n",
        "\n",
        "1. Find that URL that you mentioned in the code and want to scrape it?\n",
        "\n",
        "2. Inspect the Page for scraping.\n",
        "\n",
        "3. Find those data you want to exact. \n",
        "\n",
        "4. Write the code for scraping.\n",
        "\n",
        "5. Run the code and extract the data. \n",
        "\n",
        "6. Store the data in the required format\n",
        "\n",
        "Now lets see how to extract data from the flipkart website using Python "
      ]
    },
    {
      "cell_type": "code",
      "execution_count": null,
      "id": "9ee795c7",
      "metadata": {
        "id": "9ee795c7"
      },
      "outputs": [],
      "source": [
        ""
      ]
    },
    {
      "cell_type": "markdown",
      "id": "3e7caad0",
      "metadata": {
        "id": "3e7caad0"
      },
      "source": [
        "### 4. Libraries used for Web Scraping?"
      ]
    },
    {
      "cell_type": "markdown",
      "id": "60f9eb3e",
      "metadata": {
        "id": "60f9eb3e"
      },
      "source": [
        "We already know, that python used for various applications and there are different libraries for different purpose. In this, using the following libraries.\n",
        "\n",
        "##### Selenium: \n",
        "Selenium library is used for web testing. We will use to automate browser activaives.\n",
        "\n",
        "##### BeautifulSoup4:\n",
        "It is generally used for parsing HTML and XML documents. It creates a parse trees that is helpful to extract the datas easily.\n",
        "\n",
        "###### Panda:\n",
        "It is a Python Library used for data manipulation and analysis. Pandas is used to extract data and stored it in the desired format."
      ]
    },
    {
      "cell_type": "code",
      "execution_count": null,
      "id": "71662fb8",
      "metadata": {
        "id": "71662fb8"
      },
      "outputs": [],
      "source": [
        ""
      ]
    },
    {
      "cell_type": "markdown",
      "id": "cf6b02ed",
      "metadata": {
        "id": "cf6b02ed"
      },
      "source": [
        "### 5. For Demo Purpose: Scraping a Flipkart Website"
      ]
    },
    {
      "cell_type": "markdown",
      "id": "2393b430",
      "metadata": {
        "id": "2393b430"
      },
      "source": [
        "Pre-requisites:\n",
        "\n",
        "    Python 3.x with Selenium, BeautifulSoup4, Pandas Library installed.\n",
        "    Google Chrome Browser\n",
        "    \n",
        "You can go through this link for more details"
      ]
    },
    {
      "cell_type": "code",
      "execution_count": null,
      "id": "0ca65eb2",
      "metadata": {
        "id": "0ca65eb2"
      },
      "outputs": [],
      "source": [
        ""
      ]
    },
    {
      "cell_type": "markdown",
      "id": "dc2f0df0",
      "metadata": {
        "id": "dc2f0df0"
      },
      "source": [
        "## Text Processing"
      ]
    },
    {
      "cell_type": "markdown",
      "id": "4cae341e",
      "metadata": {
        "id": "4cae341e"
      },
      "source": [
        "Supose we have textual data available, we need to apply many of pre-processing steps to the data to transform those words into numerical features that work with machine learning algorithms"
      ]
    },
    {
      "cell_type": "markdown",
      "id": "790348f8",
      "metadata": {
        "id": "790348f8"
      },
      "source": [
        "The pre-processing steps for the problem depend mainly on the domain and the problem itself. We don't need to apply all the steps for every problem\n",
        "\n",
        "Here, we're going to see text preprocessing in Python. We'll use NLTK (Natural Language Toolkit) library here."
      ]
    },
    {
      "cell_type": "code",
      "execution_count": null,
      "id": "4197e58f",
      "metadata": {
        "id": "4197e58f"
      },
      "outputs": [],
      "source": [
        "# Import necessary libraries\n",
        "import nltk\n",
        "import string\n",
        "import re"
      ]
    },
    {
      "cell_type": "markdown",
      "id": "6173313e",
      "metadata": {
        "id": "6173313e"
      },
      "source": [
        "### Text Lowercase\n",
        "\n",
        "We do lowercase the text to reduce the size of the vocabulary of our text data."
      ]
    },
    {
      "cell_type": "code",
      "execution_count": null,
      "id": "664b0e20",
      "metadata": {
        "id": "664b0e20"
      },
      "outputs": [],
      "source": [
        "def lowercase_text (text):\n",
        "    return text.lower()"
      ]
    },
    {
      "cell_type": "code",
      "execution_count": null,
      "id": "b310fad1",
      "metadata": {
        "id": "b310fad1",
        "outputId": "44857f56-c7a8-4728-834c-73e13e8f259d"
      },
      "outputs": [
        {
          "data": {
            "text/plain": [
              "'weather is too cloudly. possibility of rain is high, today!'"
            ]
          },
          "execution_count": 32,
          "metadata": {},
          "output_type": "execute_result"
        }
      ],
      "source": [
        "input_str = 'Weather is too Cloudly. Possibility of Rain is High, Today!'\n",
        "lowercase_text(input_str)"
      ]
    },
    {
      "cell_type": "code",
      "execution_count": null,
      "id": "4fc91aa6",
      "metadata": {
        "id": "4fc91aa6"
      },
      "outputs": [],
      "source": [
        ""
      ]
    },
    {
      "cell_type": "markdown",
      "id": "74960266",
      "metadata": {
        "id": "74960266"
      },
      "source": [
        "### Remove Numbers"
      ]
    },
    {
      "cell_type": "markdown",
      "id": "877a10fa",
      "metadata": {
        "id": "877a10fa"
      },
      "source": [
        "We should either remove the numbers or convert those numbers into textual representations. We use regular expression(re) to remove the numbers."
      ]
    },
    {
      "cell_type": "code",
      "execution_count": null,
      "id": "67935d6f",
      "metadata": {
        "id": "67935d6f",
        "outputId": "0aa9f6a4-0229-464e-eb43-b5d45e8cd9b1"
      },
      "outputs": [
        {
          "data": {
            "text/plain": [
              "'You bought  candies from shop, and  candies are in home.'"
            ]
          },
          "execution_count": 33,
          "metadata": {},
          "output_type": "execute_result"
        }
      ],
      "source": [
        "# for Removing numbers\n",
        "def remove_num(text):\n",
        "    result = re.sub(r'\\d+', '', text)\n",
        "    return result\n",
        "\n",
        "input_s = \"You bought 6 candies from shop, and 4 candies are in home.\"\n",
        "remove_num(input_s)"
      ]
    },
    {
      "cell_type": "markdown",
      "id": "e9b7ca07",
      "metadata": {
        "id": "e9b7ca07"
      },
      "source": [
        "As we mentioned above you, you can also convert the numbers into words. This could be done by using the inflect library."
      ]
    },
    {
      "cell_type": "code",
      "execution_count": null,
      "id": "d86f8cab",
      "metadata": {
        "id": "d86f8cab"
      },
      "outputs": [],
      "source": [
        "# !pip install inflect"
      ]
    },
    {
      "cell_type": "code",
      "execution_count": null,
      "id": "13f196e3",
      "metadata": {
        "id": "13f196e3"
      },
      "outputs": [],
      "source": [
        "# import the library\n",
        "import inflect\n",
        "q = inflect.engine()\n",
        "\n",
        "# Convert number into text\n",
        "\n",
        "def convert_num(text):\n",
        "    # Split strings into list of texts\n",
        "    temp_string = text.split()\n",
        "    \n",
        "    # Initialise empty list\n",
        "    new_str = []\n",
        "    \n",
        "    for word in temp_string:\n",
        "        # if text is a digit, conver the digit\n",
        "        # to numbers and append into the new_str list\n",
        "        \n",
        "        if word.isdigit():\n",
        "            temp = q.number_to_words(word)\n",
        "            new_str.append(temp)\n",
        "        \n",
        "        # Append the texts as it is\n",
        "        else:\n",
        "            new_str.append(word)\n",
        "            \n",
        "        # join the texts of new_str to form a string\n",
        "    temp_str = ' '.join(new_str)\n",
        "    return temp_str"
      ]
    },
    {
      "cell_type": "code",
      "execution_count": null,
      "id": "05caa974",
      "metadata": {
        "id": "05caa974",
        "outputId": "93d2ba33-6c83-4855-985f-3a94843062d4"
      },
      "outputs": [
        {
          "data": {
            "text/plain": [
              "'You bought six candies from shop, and four candies are in home.'"
            ]
          },
          "execution_count": 39,
          "metadata": {},
          "output_type": "execute_result"
        }
      ],
      "source": [
        "input_str = 'You bought 6 candies from shop, and 4 candies are in home.'\n",
        "convert_num(input_str)"
      ]
    },
    {
      "cell_type": "code",
      "execution_count": null,
      "id": "9840bbfc",
      "metadata": {
        "id": "9840bbfc"
      },
      "outputs": [],
      "source": [
        ""
      ]
    },
    {
      "cell_type": "markdown",
      "id": "ec8763c7",
      "metadata": {
        "id": "ec8763c7"
      },
      "source": [
        "### Remove Punctuation"
      ]
    },
    {
      "cell_type": "markdown",
      "id": "2da0ae15",
      "metadata": {
        "id": "2da0ae15"
      },
      "source": [
        "We remove punctuations because of that we don't have different form of the same word. If we don't remove punctuations, then been, been and been! will be treated separately"
      ]
    },
    {
      "cell_type": "code",
      "execution_count": null,
      "id": "da82bf72",
      "metadata": {
        "id": "da82bf72",
        "outputId": "73a7063f-425b-4233-eae6-8679ef26d7e7"
      },
      "outputs": [
        {
          "data": {
            "text/plain": [
              "'Hey Are you excited After a week we will be in Shimla'"
            ]
          },
          "execution_count": 40,
          "metadata": {},
          "output_type": "execute_result"
        }
      ],
      "source": [
        "# Let's remove punctuation\n",
        "\n",
        "def rem_punct(text):\n",
        "    translator = str.maketrans('', '', string.punctuation)\n",
        "    return text.translate(translator)\n",
        "input_str = 'Hey, Are you excited?, After a week, we will be in Shimla!!'\n",
        "rem_punct(input_str)"
      ]
    },
    {
      "cell_type": "code",
      "execution_count": null,
      "id": "3f82cd5b",
      "metadata": {
        "id": "3f82cd5b",
        "outputId": "7d4150bb-9728-4283-ac9b-a824acea3e0e"
      },
      "outputs": [
        {
          "data": {
            "text/plain": [
              "'!\"#$%&\\'()*+,-./:;<=>?@[\\\\]^_`{|}~'"
            ]
          },
          "execution_count": 41,
          "metadata": {},
          "output_type": "execute_result"
        }
      ],
      "source": [
        "string.punctuation"
      ]
    },
    {
      "cell_type": "code",
      "execution_count": null,
      "id": "89403b99",
      "metadata": {
        "id": "89403b99"
      },
      "outputs": [],
      "source": [
        ""
      ]
    },
    {
      "cell_type": "markdown",
      "id": "18f79208",
      "metadata": {
        "id": "18f79208"
      },
      "source": [
        "### Remove default stopwords"
      ]
    },
    {
      "cell_type": "markdown",
      "id": "e830954c",
      "metadata": {
        "id": "e830954c"
      },
      "source": [
        "Stopwords are words that do nto contribute to the meaning of the sentence. Hence, they can be safely removed without causing any change in the meaning of a sentence. The NLTK (Natural Language Toolkit) library has the set of stopwords and we can use these to remove stopwords from our text and return a list of word tokens"
      ]
    },
    {
      "cell_type": "code",
      "execution_count": null,
      "id": "a5f36645",
      "metadata": {
        "id": "a5f36645",
        "outputId": "9917c9ae-88bf-47c3-e5c0-3aad37dc7109"
      },
      "outputs": [
        {
          "name": "stderr",
          "output_type": "stream",
          "text": [
            "[nltk_data] Downloading package stopwords to C:\\Users\\shruti\n",
            "[nltk_data]     kadyan\\AppData\\Roaming\\nltk_data...\n",
            "[nltk_data]   Package stopwords is already up-to-date!\n",
            "[nltk_data] Downloading package punkt to C:\\Users\\shruti\n",
            "[nltk_data]     kadyan\\AppData\\Roaming\\nltk_data...\n",
            "[nltk_data]   Package punkt is already up-to-date!\n"
          ]
        },
        {
          "data": {
            "text/plain": [
              "True"
            ]
          },
          "execution_count": 42,
          "metadata": {},
          "output_type": "execute_result"
        }
      ],
      "source": [
        "# importing nltk library\n",
        "\n",
        "from nltk.corpus import stopwords\n",
        "from nltk.tokenize import word_tokenize\n",
        "\n",
        "nltk.download('stopwords')\n",
        "nltk.download('punkt')"
      ]
    },
    {
      "cell_type": "code",
      "execution_count": null,
      "id": "344691aa",
      "metadata": {
        "id": "344691aa"
      },
      "outputs": [],
      "source": [
        "# Remove stopwords function\n",
        "\n",
        "def rem_stopwords(text):\n",
        "    stop_words = set(stopwords.words('english'))\n",
        "    word_tokens = word_tokenize(text)\n",
        "    filtered_text = [word for word in word_tokens if word not in string.punctuation]\n",
        "    filtered_text = [word for word in filtered_text if word not in stop_words]\n",
        "    return filtered_text"
      ]
    },
    {
      "cell_type": "code",
      "execution_count": null,
      "id": "91c88e83",
      "metadata": {
        "id": "91c88e83",
        "outputId": "47dad60b-8e59-426b-f0f6-75d13d7ca4e9"
      },
      "outputs": [
        {
          "data": {
            "text/plain": [
              "['Data', 'new', 'oil', 'A.I', 'last', 'invention']"
            ]
          },
          "execution_count": 44,
          "metadata": {},
          "output_type": "execute_result"
        }
      ],
      "source": [
        "ex_text = \"Data is the new oil, A.I is the last invention\"\n",
        "rem_stopwords(ex_text)"
      ]
    },
    {
      "cell_type": "code",
      "execution_count": null,
      "id": "ba0599aa",
      "metadata": {
        "id": "ba0599aa"
      },
      "outputs": [],
      "source": [
        ""
      ]
    },
    {
      "cell_type": "markdown",
      "id": "47a17801",
      "metadata": {
        "id": "47a17801"
      },
      "source": [
        "### Stemming"
      ]
    },
    {
      "cell_type": "markdown",
      "id": "dabf16e4",
      "metadata": {
        "id": "dabf16e4"
      },
      "source": [
        "From Stemming we will process of getting the root form of a word. Root or Stem is the part to which inflextional affixes (like -ed, ize, etc) are added. We would create the stem words by removing the prefix or suffix of a word. So, stemming a word may not result in actual words."
      ]
    },
    {
      "cell_type": "markdown",
      "id": "d355b0fe",
      "metadata": {
        "id": "d355b0fe"
      },
      "source": [
        "For example Mangoes --> Mango\n",
        "    Boys --> Boy\n",
        "    \n",
        "    going = go\n",
        "    \n",
        "If our sentences are not in tokens, then we need to convert it into tokens. After we converted strings of text into tokens, then we can convert those word tokens into their root form. These are the Porter Stemmer, the snowball stemmer, and the Lancaster Stemmer. We usually use Porter Stemmer among them."
      ]
    },
    {
      "cell_type": "code",
      "execution_count": null,
      "id": "6a4aaaa1",
      "metadata": {
        "id": "6a4aaaa1"
      },
      "outputs": [],
      "source": [
        "# importing nltk's porter stemmer\n",
        "from nltk.stem.porter import PorterStemmer\n",
        "from nltk.tokenize import word_tokenize"
      ]
    },
    {
      "cell_type": "code",
      "execution_count": null,
      "id": "81c9a35f",
      "metadata": {
        "id": "81c9a35f",
        "outputId": "2e2984c2-8243-4c4c-851a-b14a87651f2d"
      },
      "outputs": [
        {
          "data": {
            "text/plain": [
              "['data',\n",
              " 'is',\n",
              " 'the',\n",
              " 'new',\n",
              " 'revolut',\n",
              " 'in',\n",
              " 'the',\n",
              " 'world',\n",
              " ',',\n",
              " 'in',\n",
              " 'a',\n",
              " 'day',\n",
              " 'one',\n",
              " 'individu',\n",
              " 'would',\n",
              " 'gener',\n",
              " 'terabyt',\n",
              " 'of',\n",
              " 'data']"
            ]
          },
          "execution_count": 46,
          "metadata": {},
          "output_type": "execute_result"
        }
      ],
      "source": [
        "porter = PorterStemmer()\n",
        "\n",
        "def stemm_words(text):\n",
        "    word_tokens = word_tokenize(text)\n",
        "    stems = [porter.stem(word) for word in word_tokens]\n",
        "    return stems\n",
        "\n",
        "text = 'Data is the new revolution in the World, in a day one individual would generate terabytes of data'\n",
        "stemm_words(text) "
      ]
    },
    {
      "cell_type": "code",
      "execution_count": null,
      "id": "a3c15800",
      "metadata": {
        "id": "a3c15800"
      },
      "outputs": [],
      "source": [
        ""
      ]
    },
    {
      "cell_type": "markdown",
      "id": "21cd363c",
      "metadata": {
        "id": "21cd363c"
      },
      "source": [
        "### Lemmatization"
      ]
    },
    {
      "cell_type": "markdown",
      "id": "c29346f1",
      "metadata": {
        "id": "c29346f1"
      },
      "source": [
        "As stemming, lemmatization do the same but the only difference is that lemmatization ensures that root word belongs to the language. Because of the use of lemmatization we will get the valid words. In NLTK (Natural language Toolkit), we use WordLemmatizer to get the lemmas of words. We also need to provide a context for the lemmatization, So, we added pos(parts of speech) as a parameter"
      ]
    },
    {
      "cell_type": "code",
      "execution_count": null,
      "id": "66bbe0ef",
      "metadata": {
        "id": "66bbe0ef",
        "outputId": "7981ab33-865c-4b03-e8c7-6a884fa5a631"
      },
      "outputs": [
        {
          "name": "stderr",
          "output_type": "stream",
          "text": [
            "[nltk_data] Downloading package wordnet to C:\\Users\\shruti\n",
            "[nltk_data]     kadyan\\AppData\\Roaming\\nltk_data...\n",
            "[nltk_data]   Package wordnet is already up-to-date!\n"
          ]
        },
        {
          "data": {
            "text/plain": [
              "True"
            ]
          },
          "execution_count": 47,
          "metadata": {},
          "output_type": "execute_result"
        }
      ],
      "source": [
        "from nltk.stem import wordnet\n",
        "from nltk.tokenize import word_tokenize\n",
        "nltk.download('wordnet')\n",
        "# Lemmatize String"
      ]
    },
    {
      "cell_type": "code",
      "execution_count": null,
      "id": "2720f140",
      "metadata": {
        "id": "2720f140"
      },
      "outputs": [],
      "source": [
        "lemma = wordnet.WordNetLemmatizer()\n",
        "def lemmatize_word (text):\n",
        "    word_tokens = word_tokenize(text)\n",
        "    # Provide context i.e. part of speech (pos)\n",
        "    lemmas = [lemma.lemmatize(word, pos = 'v') for word in word_tokens]\n",
        "    return lemmas"
      ]
    },
    {
      "cell_type": "code",
      "execution_count": null,
      "id": "915c4316",
      "metadata": {
        "id": "915c4316",
        "outputId": "e2720f03-ca09-4bae-e711-e6457aef9299"
      },
      "outputs": [
        {
          "data": {
            "text/plain": [
              "['Data',\n",
              " 'be',\n",
              " 'the',\n",
              " 'new',\n",
              " 'revolution',\n",
              " 'in',\n",
              " 'the',\n",
              " 'world',\n",
              " ',',\n",
              " 'in',\n",
              " 'a',\n",
              " 'day',\n",
              " 'one',\n",
              " 'individual',\n",
              " 'would',\n",
              " 'generate',\n",
              " 'terabytes',\n",
              " 'of',\n",
              " 'data',\n",
              " '.']"
            ]
          },
          "execution_count": 49,
          "metadata": {},
          "output_type": "execute_result"
        }
      ],
      "source": [
        "text = 'Data is the new revolution in the world, in a day one individual would generate terabytes of data.'\n",
        "lemmatize_word(text)"
      ]
    },
    {
      "cell_type": "code",
      "execution_count": null,
      "id": "d39268a3",
      "metadata": {
        "id": "d39268a3",
        "outputId": "fe64e390-38a3-40d3-b721-5c3b8bee27dc"
      },
      "outputs": [
        {
          "name": "stderr",
          "output_type": "stream",
          "text": [
            "[nltk_data] Downloading package punkt to C:\\Users\\shruti\n",
            "[nltk_data]     kadyan\\AppData\\Roaming\\nltk_data...\n",
            "[nltk_data]   Package punkt is already up-to-date!\n"
          ]
        },
        {
          "data": {
            "text/plain": [
              "True"
            ]
          },
          "execution_count": 50,
          "metadata": {},
          "output_type": "execute_result"
        }
      ],
      "source": [
        "import nltk\n",
        "nltk.download('punkt')"
      ]
    },
    {
      "cell_type": "markdown",
      "id": "16c22333",
      "metadata": {
        "id": "16c22333"
      },
      "source": [
        "### Parts of Speech (POS) Tagging"
      ]
    },
    {
      "cell_type": "markdown",
      "id": "8d7dafc8",
      "metadata": {
        "id": "8d7dafc8"
      },
      "source": [
        "The pos(parts of speech) explain you how a word is used in a sentence. In the sentence, a word have different contexts and semantic meanings. The basic natural language processing (NLP) models like bage of word(BOW) fails to identify these relation between the words. For that we use pos tagging to mark a word to its pos tag based on its context in the data. Pos is also used to extract relationship between the words."
      ]
    },
    {
      "cell_type": "code",
      "execution_count": null,
      "id": "5124ec62",
      "metadata": {
        "id": "5124ec62"
      },
      "outputs": [],
      "source": [
        "# importing tokenize library\n",
        "from nltk.tokenize import word_tokenize\n",
        "from nltk import pos_tag"
      ]
    },
    {
      "cell_type": "code",
      "execution_count": null,
      "id": "b2526c9b",
      "metadata": {
        "id": "b2526c9b",
        "outputId": "c431188c-4e05-4561-9752-2a6aa6696045"
      },
      "outputs": [
        {
          "name": "stderr",
          "output_type": "stream",
          "text": [
            "[nltk_data] Downloading package averaged_perceptron_tagger to\n",
            "[nltk_data]     C:\\Users\\shruti kadyan\\AppData\\Roaming\\nltk_data...\n",
            "[nltk_data]   Unzipping taggers\\averaged_perceptron_tagger.zip.\n"
          ]
        },
        {
          "data": {
            "text/plain": [
              "True"
            ]
          },
          "execution_count": 62,
          "metadata": {},
          "output_type": "execute_result"
        }
      ],
      "source": [
        "nltk.download('averaged_perceptron_tagger')"
      ]
    },
    {
      "cell_type": "code",
      "execution_count": null,
      "id": "5b5701ec",
      "metadata": {
        "id": "5b5701ec"
      },
      "outputs": [],
      "source": [
        "# Convert text into word tokens with their tags\n",
        "def pos_tag_func(text):\n",
        "    word_tokens = word_tokenize(text)\n",
        "    return pos_tag(word_tokens)"
      ]
    },
    {
      "cell_type": "code",
      "execution_count": null,
      "id": "97c82901",
      "metadata": {
        "id": "97c82901",
        "outputId": "26d7df33-4206-4241-bf16-c4a766ccec36"
      },
      "outputs": [
        {
          "data": {
            "text/plain": [
              "[('Are', 'NNP'),\n",
              " ('you', 'PRP'),\n",
              " ('afraid', 'IN'),\n",
              " ('of', 'IN'),\n",
              " ('something', 'NN'),\n",
              " ('?', '.')]"
            ]
          },
          "execution_count": 64,
          "metadata": {},
          "output_type": "execute_result"
        }
      ],
      "source": [
        "pos_tag_func('Are you afraid of something?')"
      ]
    },
    {
      "cell_type": "markdown",
      "id": "2d0e540f",
      "metadata": {
        "id": "2d0e540f"
      },
      "source": [
        "In the above example :\n",
        "\n",
        "    NNP stands for Proper Noun\n",
        "    \n",
        "    PRP stands for personal noun,\n",
        "    \n",
        "    In stands for Preposition,\n",
        "    \n",
        "    We can get all the details pos tags using the Penn Treebank tagset."
      ]
    },
    {
      "cell_type": "code",
      "execution_count": null,
      "id": "81a392e2",
      "metadata": {
        "id": "81a392e2"
      },
      "outputs": [],
      "source": [
        ""
      ]
    },
    {
      "cell_type": "code",
      "execution_count": null,
      "id": "a6d38950",
      "metadata": {
        "id": "a6d38950",
        "outputId": "369998c9-cb31-45ef-bacb-ed78579177b9"
      },
      "outputs": [
        {
          "name": "stderr",
          "output_type": "stream",
          "text": [
            "[nltk_data] Downloading package tagsets to C:\\Users\\shruti\n",
            "[nltk_data]     kadyan\\AppData\\Roaming\\nltk_data...\n"
          ]
        },
        {
          "name": "stdout",
          "output_type": "stream",
          "text": [
            "PRP: pronoun, personal\n",
            "    hers herself him himself hisself it itself me myself one oneself ours\n",
            "    ourselves ownself self she thee theirs them themselves they thou thy us\n"
          ]
        },
        {
          "name": "stderr",
          "output_type": "stream",
          "text": [
            "[nltk_data]   Unzipping help\\tagsets.zip.\n"
          ]
        }
      ],
      "source": [
        "# Downloading the tagset\n",
        "nltk.download('tagsets')\n",
        "\n",
        "# extract information about the tag\n",
        "nltk.help.upenn_tagset('PRP')"
      ]
    },
    {
      "cell_type": "markdown",
      "id": "7a9cc43b",
      "metadata": {
        "id": "7a9cc43b"
      },
      "source": [
        "### Chunking"
      ]
    },
    {
      "cell_type": "markdown",
      "id": "aa8d1b21",
      "metadata": {
        "id": "aa8d1b21"
      },
      "source": [
        "Chunking is the process of extracting phrases from the Unstructured text and give them more structure to it. We also called them shallow parsing. We can do it on top of pos tagging. It groups words into chunks mainly for noun phrases. Chunking we do by using regular expression"
      ]
    },
    {
      "cell_type": "code",
      "execution_count": null,
      "id": "06b929b5",
      "metadata": {
        "id": "06b929b5"
      },
      "outputs": [],
      "source": [
        "# importing libray\n",
        "from nltk.tokenize import word_tokenize\n",
        "from nltk import pos_tag\n"
      ]
    },
    {
      "cell_type": "code",
      "execution_count": null,
      "id": "a73c9452",
      "metadata": {
        "id": "a73c9452"
      },
      "outputs": [],
      "source": [
        "# here we define chunking function with text and regular expressions representing grammer as parameter\n",
        "def chunking(text, grammer):\n",
        "    word_tokens = word_tokenize(text)\n",
        "    \n",
        "    # label word with pos\n",
        "    word_pos = pos_tag(word_tokens)\n",
        "    \n",
        "    # Create chunk parser using grammer\n",
        "    chunkParser = nltk.RegexpParser(grammer)\n",
        "    \n",
        "    # test it on the list of word tokens with tagged pos\n",
        "    tree = chunkParser.parse(word_pos)\n",
        "    \n",
        "    for subtree in tree.subtrees():\n",
        "        print(subtree)\n",
        "        "
      ]
    },
    {
      "cell_type": "code",
      "execution_count": null,
      "id": "f17b1bbb",
      "metadata": {
        "id": "f17b1bbb",
        "outputId": "28c2d6b6-baf8-46cf-b929-acd0bc610c46"
      },
      "outputs": [
        {
          "name": "stdout",
          "output_type": "stream",
          "text": [
            "(S\n",
            "  (NP the/DT little/JJ red/JJ parrot/NN)\n",
            "  is/VBZ\n",
            "  flying/VBG\n",
            "  in/IN\n",
            "  (NP the/DT sky/NN))\n",
            "(NP the/DT little/JJ red/JJ parrot/NN)\n",
            "(NP the/DT sky/NN)\n"
          ]
        }
      ],
      "source": [
        "sentence = 'the little red parrot is flying in the sky'\n",
        "grammer = 'NP: {<DT>?<JJ>*<NN>}'\n",
        "chunking(sentence, grammer)"
      ]
    },
    {
      "cell_type": "markdown",
      "id": "f10d3900",
      "metadata": {
        "id": "f10d3900"
      },
      "source": [
        "In the above example, we defined the grammer by using the regular expression rule. This rule tells you that NP (Noun phrase) chunk should be formed whenever the chunker find the optional determiner (DJ) followed by any no. of adjectives and then a NN (Noun)"
      ]
    },
    {
      "cell_type": "code",
      "execution_count": null,
      "id": "4445e4be",
      "metadata": {
        "id": "4445e4be"
      },
      "outputs": [],
      "source": [
        "# Libraries like Spacy and TextBlob are best for chunking"
      ]
    },
    {
      "cell_type": "markdown",
      "id": "7bb73e74",
      "metadata": {
        "id": "7bb73e74"
      },
      "source": [
        "## Named Entity Recognition"
      ]
    },
    {
      "cell_type": "markdown",
      "id": "b19020af",
      "metadata": {
        "id": "b19020af"
      },
      "source": [
        "It is used to extract information from unstructed text. It is used to classy the entities which is present in the text into categories like a person, organization, event, places, etc. This will give you a detail knowlege about the text and the relationship between the different entities"
      ]
    },
    {
      "cell_type": "code",
      "execution_count": null,
      "id": "12f6ffb9",
      "metadata": {
        "id": "12f6ffb9",
        "outputId": "408eaf4d-be87-4d47-c3df-2dcd94037e37"
      },
      "outputs": [
        {
          "name": "stderr",
          "output_type": "stream",
          "text": [
            "[nltk_data] Downloading package words to C:\\Users\\shruti\n",
            "[nltk_data]     kadyan\\AppData\\Roaming\\nltk_data...\n",
            "[nltk_data]   Unzipping corpora\\words.zip.\n",
            "[nltk_data] Downloading package maxent_ne_chunker to C:\\Users\\shruti\n",
            "[nltk_data]     kadyan\\AppData\\Roaming\\nltk_data...\n",
            "[nltk_data]   Package maxent_ne_chunker is already up-to-date!\n"
          ]
        },
        {
          "data": {
            "text/plain": [
              "True"
            ]
          },
          "execution_count": 79,
          "metadata": {},
          "output_type": "execute_result"
        }
      ],
      "source": [
        "# Importing tokenization and chunk\n",
        "from nltk.tokenize import word_tokenize\n",
        "from nltk import pos_tag, ne_chunk\n",
        "\n",
        "import nltk\n",
        "nltk.download('words')\n",
        "nltk.download('maxent_ne_chunker')"
      ]
    },
    {
      "cell_type": "code",
      "execution_count": null,
      "id": "c345cc7a",
      "metadata": {
        "id": "c345cc7a"
      },
      "outputs": [],
      "source": [
        "def ner(text):\n",
        "    # tokenize the text\n",
        "    word_tokens = word_tokenize(text)\n",
        "    \n",
        "    # pos tagging of words\n",
        "    word_pos = pos_tag(word_tokens)\n",
        "    \n",
        "    # tree of word entities\n",
        "    print(ne_chunk(word_pos))"
      ]
    },
    {
      "cell_type": "code",
      "execution_count": null,
      "id": "d33312dc",
      "metadata": {
        "id": "d33312dc",
        "outputId": "e47a587d-26ce-4009-8ab4-d23e4e39b070"
      },
      "outputs": [
        {
          "name": "stdout",
          "output_type": "stream",
          "text": [
            "(S\n",
            "  (PERSON Brain/NNP)\n",
            "  (PERSON Lara/NNP)\n",
            "  Scored/VBD\n",
            "  the/DT\n",
            "  highest/JJS\n",
            "  400/CD\n",
            "  runs/NNS\n",
            "  in/IN\n",
            "  a/DT\n",
            "  test/NN\n",
            "  match/NN\n",
            "  which/WDT\n",
            "  played/VBD\n",
            "  in/IN\n",
            "  between/IN\n",
            "  (ORGANIZATION WI/NNP)\n",
            "  and/CC\n",
            "  (GPE England/NNP))\n"
          ]
        }
      ],
      "source": [
        "text = 'Brain Lara Scored the highest 400 runs in a test match which played in between WI and England'\n",
        "ner(text)"
      ]
    },
    {
      "cell_type": "code",
      "execution_count": null,
      "id": "0324a4d5",
      "metadata": {
        "id": "0324a4d5"
      },
      "outputs": [],
      "source": [
        ""
      ]
    },
    {
      "cell_type": "markdown",
      "id": "53387537",
      "metadata": {
        "id": "53387537"
      },
      "source": [
        "## Understanding Regex"
      ]
    },
    {
      "cell_type": "markdown",
      "id": "b9b7a207",
      "metadata": {
        "id": "b9b7a207"
      },
      "source": [
        "As you're software developer, you have probably encountered regular expressions many times and got consufed many times with these daunting set of characters grouped together like this:"
      ]
    },
    {
      "cell_type": "markdown",
      "id": "21ca2317",
      "metadata": {
        "id": "21ca2317"
      },
      "source": [
        "/^\\w+([\\.-]?\\w)+@\\w+(.[\\.]?\\w)+(\\.[a-zA-Z]{2,3})+$/"
      ]
    },
    {
      "cell_type": "markdown",
      "id": "019230d6",
      "metadata": {
        "id": "019230d6"
      },
      "source": [
        "And you many wondered what this is all about?\n",
        "\n",
        "Regular Expression (Regx or RegExp) are too useful in stepping up you algorithm game and this will make you a better problem solver. The structure of Regx can be intimidating at first, but it is very rearding once you got all the patterns and implement them in your ork properly.\n"
      ]
    },
    {
      "cell_type": "markdown",
      "id": "1a348be2",
      "metadata": {
        "id": "1a348be2"
      },
      "source": [
        "## What is RegEx and hy is it important?"
      ]
    },
    {
      "cell_type": "markdown",
      "id": "e4a6e5af",
      "metadata": {
        "id": "e4a6e5af"
      },
      "source": [
        "A Regex or we called it as regular expression, it is a type of object will help you out to extract information from any string data by searching through text and find it out what you need. Whether it's punctuation, numbers, letters, or even white spaces, RegEx will allow you to check and match any of the character combination in strings\n",
        "\n",
        "For example, suppose you need to match the format of a email address or security numbers. You can utilize RegEx to check the pattern inside the text strings and use it to replace another substring.\n",
        "\n",
        "For instance, a RegEx could tell the program to search for the specific text from the string and then a print out the output accordingly. Expressions can include Text matching. Repetition of words, Branching, pattern-corposition.\n",
        "\n",
        "Python supports RegEx through libraries. In RegEx supports for various things like Identifiers, Modifiers, and White Space"
      ]
    },
    {
      "cell_type": "markdown",
      "source": [
        "![one.jpg](data:image/jpeg;base64,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)"
      ],
      "metadata": {
        "id": "N2PoBVitD0Kz"
      },
      "id": "N2PoBVitD0Kz"
    },
    {
      "cell_type": "markdown",
      "source": [
        "### RegEx Syntax\n",
        "\n",
        "import re\n",
        "\n",
        "re library in Python is used for string searching and manipulation\n",
        "\n",
        "We also used it frequently for web scraping"
      ],
      "metadata": {
        "id": "wIesOETZD_aP"
      },
      "id": "wIesOETZD_aP"
    },
    {
      "cell_type": "markdown",
      "source": [
        "#### Example for w+ and ^ Expression\n",
        "\n",
        "^: Here in this expression matches the start of a string.\n",
        "w+: This expression matches for the alphanumeric characters from inside the string.\n",
        "\n",
        "Here, we will give on example of how you can use \"w+\" and \"^\" expression in code. re.findall will cover in next parts, so just focus on the \"w+\" and \"^\" expression\n",
        "\n",
        "Let's have an example \"iNeuron13, Data is a new fuel\", if we execute the code we will get \"iNeuron13\" as a result"
      ],
      "metadata": {
        "id": "rnDOL0HeEagV"
      },
      "id": "rnDOL0HeEagV"
    },
    {
      "cell_type": "code",
      "execution_count": null,
      "id": "311d0026",
      "metadata": {
        "colab": {
          "base_uri": "https://localhost:8080/"
        },
        "id": "311d0026",
        "outputId": "d6a83192-0129-4768-c0f5-626c02857b68"
      },
      "outputs": [
        {
          "output_type": "stream",
          "name": "stdout",
          "text": [
            "['dataset']\n"
          ]
        }
      ],
      "source": [
        "import re\n",
        "\n",
        "sent = \"dataset, Data is a new fuel\"\n",
        "r2 = re.findall(r\"^\\w+\", sent)\n",
        "print(r2)"
      ]
    },
    {
      "cell_type": "markdown",
      "source": [
        "Note: If we remove '+' sign from \\w, the output will change and it'll give only first character of the first letter, i.e. [i]\n"
      ],
      "metadata": {
        "id": "YEvPysn8FZgJ"
      },
      "id": "YEvPysn8FZgJ"
    },
    {
      "cell_type": "code",
      "source": [
        ""
      ],
      "metadata": {
        "id": "mZiMda9VFX2g"
      },
      "id": "mZiMda9VFX2g",
      "execution_count": null,
      "outputs": []
    },
    {
      "cell_type": "markdown",
      "source": [
        "#### Example of \\s expression in re.split function"
      ],
      "metadata": {
        "id": "9117FyPuGBPX"
      },
      "id": "9117FyPuGBPX"
    },
    {
      "cell_type": "markdown",
      "source": [
        "\"s:\" This expression we use for creating a space in the string.\n",
        "\n",
        "To understand better this expression we will use the split function in a simple example. In this example, we have to split each words using the \"re.split\" function and at the same time we have used \\s that allows to parse each word in the string seperately."
      ],
      "metadata": {
        "id": "CDi5bghoGROV"
      },
      "id": "CDi5bghoGROV"
    },
    {
      "cell_type": "code",
      "source": [
        "import re\n",
        "\n",
        "print((re.split(r\"\\s\", \"We splited this sentence\")) )"
      ],
      "metadata": {
        "colab": {
          "base_uri": "https://localhost:8080/"
        },
        "id": "upDr3a_nGILb",
        "outputId": "a8a54ca5-6c66-4589-d5f9-5ed8bcd5b7dc"
      },
      "id": "upDr3a_nGILb",
      "execution_count": null,
      "outputs": [
        {
          "output_type": "stream",
          "name": "stdout",
          "text": [
            "['We', 'splited', 'this', 'sentence']\n"
          ]
        }
      ]
    },
    {
      "cell_type": "markdown",
      "source": [
        "As we can see above we got the output ['We', 'splited', 'this', 'sentence] but what if we remove '\\' from '\\s', it will give result like remove 's' from the entire sentences. Lets see in below example"
      ],
      "metadata": {
        "id": "3SkoUs-aHJHC"
      },
      "id": "3SkoUs-aHJHC"
    },
    {
      "cell_type": "code",
      "source": [
        "import re\n",
        "\n",
        "print( ( re.split(r's', 'We splited this sentence')))"
      ],
      "metadata": {
        "colab": {
          "base_uri": "https://localhost:8080/"
        },
        "id": "EnJy5W3iG4QW",
        "outputId": "60cd155f-1992-4f2b-a3c6-ad241f1e4159"
      },
      "id": "EnJy5W3iG4QW",
      "execution_count": null,
      "outputs": [
        {
          "output_type": "stream",
          "name": "stdout",
          "text": [
            "['We ', 'plited thi', ' ', 'entence']\n"
          ]
        }
      ]
    },
    {
      "cell_type": "markdown",
      "source": [
        "Similary, there are series of regular expression in Python that you can use  in various ways like \\d, \\D, $, ., \\b, etc"
      ],
      "metadata": {
        "id": "iPLdyP3VHrgW"
      },
      "id": "iPLdyP3VHrgW"
    },
    {
      "cell_type": "markdown",
      "source": [
        "### Use RegEx Methods\n",
        "\n",
        "The \"re\" packages provide several methods to actually perfrom queries on an input string. We will see different methods which are \n",
        "\n",
        "  re.match()\n",
        "\n",
        "  re.search()\n",
        "\n",
        "  re.findall()\n",
        "\n",
        "**Note:** Based on the RegEx, Python offers two different primitive operations. This match method checks for the match only at the begining of the string while search checks for a match anywhere in the string."
      ],
      "metadata": {
        "id": "PcKcCeggJFlX"
      },
      "id": "PcKcCeggJFlX"
    },
    {
      "cell_type": "markdown",
      "source": [
        "### Use re.match()\n",
        "\n",
        "The match function is used to match the RegEx pattern to string with optional flag. Here, in this \"w+\" and \"\\W\" will match the words starting from \"i\" and thereafter anything which is not started with \"i\" is not identified. For checking match for each element in the list or string, we run the for loop."
      ],
      "metadata": {
        "id": "e0EJqyqoJtx2"
      },
      "id": "e0EJqyqoJtx2"
    },
    {
      "cell_type": "code",
      "source": [
        "import re\n",
        "\n",
        "lists = ['icecream images', 'i immitated', 'inner peace']\n",
        "\n",
        "for i in lists:\n",
        "  q = re.match(\"(i\\w+)\\W(i\\w+)\", i)\n",
        "\n",
        "  if q:\n",
        "    print((q.groups()))"
      ],
      "metadata": {
        "colab": {
          "base_uri": "https://localhost:8080/"
        },
        "id": "aqeuDrMyHqA0",
        "outputId": "983ebc31-0467-4df3-f43f-62adf137811c"
      },
      "id": "aqeuDrMyHqA0",
      "execution_count": null,
      "outputs": [
        {
          "output_type": "stream",
          "name": "stdout",
          "text": [
            "('icecream', 'images')\n"
          ]
        }
      ]
    },
    {
      "cell_type": "code",
      "source": [
        ""
      ],
      "metadata": {
        "id": "1VnTqYgCKID4"
      },
      "id": "1VnTqYgCKID4",
      "execution_count": null,
      "outputs": []
    },
    {
      "cell_type": "markdown",
      "source": [
        "### Finding pattern in the text(re.search())\n",
        "\n",
        "A RegEx is commonly used to search for a pattern in the text. This method takes a RegEx pattern and a string and searches that pattern with the string.\n",
        "\n",
        "For using re.search() function, you need to import re first. The search() function takes the \"pattern\" and \"text\" to scan from our giving string and returns the match object when the pattern found or else not match."
      ],
      "metadata": {
        "id": "BdW_JTWNK3eC"
      },
      "id": "BdW_JTWNK3eC"
    },
    {
      "cell_type": "code",
      "source": [
        "  import re\n",
        "\n",
        "  pattern = ['playing', 'dataset']\n",
        "  text = \"Raju is playing outside\"\n",
        "\n",
        "  for p in pattern:\n",
        "    print(\"You're looking for '%s' in '%s'\"%(p, text), end = \" \" )\n",
        "    if re.search(p, text):\n",
        "      print('Found match!')\n",
        "\n",
        "    else:\n",
        "      print('No match found!')"
      ],
      "metadata": {
        "colab": {
          "base_uri": "https://localhost:8080/"
        },
        "id": "MjbK7DxLLWJb",
        "outputId": "735f4a3a-7b2f-4903-ba72-71dc41794489"
      },
      "id": "MjbK7DxLLWJb",
      "execution_count": null,
      "outputs": [
        {
          "output_type": "stream",
          "name": "stdout",
          "text": [
            "You're looking for 'playing' in 'Raju is playing outside' Found match!\n",
            "You're looking for 'dataset' in 'Raju is playing outside' No match found!\n"
          ]
        }
      ]
    },
    {
      "cell_type": "markdown",
      "source": [
        "In the above example, we look for two literal strings \"playing\", \"iNeuron\" and in text string we had taken \"Raju is playing outside.\". for \"playing\" we got the match and in the output we got \"Found match\", while for the word \"iNeuron\" we didn't got any match. So we got no match found for that word.\n"
      ],
      "metadata": {
        "id": "eB1c1K_bMivr"
      },
      "id": "eB1c1K_bMivr"
    },
    {
      "cell_type": "markdown",
      "source": [
        "### Using re.findall() for text\n",
        "\n",
        "We use re.findall() module is when you want to iterate over the lines of the file, it'll do like list all the matches in one go. Here in a example, we would like to fetch email address from the list and we want to fetch from the list, we use re.findall() method."
      ],
      "metadata": {
        "id": "FT1RN7COM_fJ"
      },
      "id": "FT1RN7COM_fJ"
    },
    {
      "cell_type": "code",
      "source": [
        "import re\n",
        "\n",
        "kgf = \"Abc@gmail.com, XYX@gmail.com, lmn@gmail.com, efg@gmail.com\"\n",
        "emails = re.findall(r\"[\\w\\.]+@[\\w\\.]+\", kgf)"
      ],
      "metadata": {
        "id": "wvNJDjOLLf6V"
      },
      "id": "wvNJDjOLLf6V",
      "execution_count": null,
      "outputs": []
    },
    {
      "cell_type": "code",
      "source": [
        "for e in emails:\n",
        "  print(e)"
      ],
      "metadata": {
        "colab": {
          "base_uri": "https://localhost:8080/"
        },
        "id": "6pkTmlqgOADj",
        "outputId": "58502204-d7b4-4952-e092-d51faad388ae"
      },
      "id": "6pkTmlqgOADj",
      "execution_count": null,
      "outputs": [
        {
          "output_type": "stream",
          "name": "stdout",
          "text": [
            "Abc@gmail.com\n",
            "XYX@gmail.com\n",
            "lmn@gmail.com\n",
            "efg@gmail.com\n"
          ]
        }
      ]
    },
    {
      "cell_type": "code",
      "source": [
        ""
      ],
      "metadata": {
        "id": "zyCBUo1TOD12"
      },
      "id": "zyCBUo1TOD12",
      "execution_count": null,
      "outputs": []
    },
    {
      "cell_type": "markdown",
      "source": [
        "### Text normalization\n",
        "\n",
        "In the tect pre-processing highly overlooked step is text normalization. The text normalization means the process of transforming the text into the canonical (or standard) form. Like, \"ok\" and \"k\" can be transformed to \"okay\", its canonical form and another example is mapping of near identical words such as \"preprocessing\", \"pre-processing\" to just \"preprocessing\".\n",
        "\n",
        "Text normalization is too usefull for noisy text such as social media comments, comment to blog posts, text messages, where abbreviations, misspellings, and the use out-of-vocabulary (oov) are prevalent."
      ],
      "metadata": {
        "id": "8ZCAQP2OOQNQ"
      },
      "id": "8ZCAQP2OOQNQ"
    },
    {
      "cell_type": "markdown",
      "source": [
        "![two.jpg](data:image/jpeg;base64,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)"
      ],
      "metadata": {
        "id": "vLmQe61uPtC-"
      },
      "id": "vLmQe61uPtC-"
    },
    {
      "cell_type": "markdown",
      "source": [
        "### Effects of normalization\n",
        "\n",
        "Text normalization has even been effective for analyzing highly unstructred clinical texts where physicians take notes in non-standard ways. We have also found it useful for topic extraction where near synonyms and spelling difference are common (like \"topic modelling\", \"topic modeling\", \"topic-modeling\", \"topic-modelling\").\n",
        "\n",
        "Unlike stemming and lemmatization, there is not a standard way to normalize texts. It typically depends on the task. For e.g. the way you would normalize clinical texts would arguably be different from how you normalize text messages.\n",
        "\n",
        "Some of the common approaches to text normalization include dictionary mappings, statistical machine translation (SMT) and spelling-correlation based approches"
      ],
      "metadata": {
        "id": "zPpLChk2PydJ"
      },
      "id": "zPpLChk2PydJ"
    },
    {
      "cell_type": "code",
      "source": [
        ""
      ],
      "metadata": {
        "id": "YfdX-8-APk9s"
      },
      "id": "YfdX-8-APk9s",
      "execution_count": null,
      "outputs": []
    },
    {
      "cell_type": "markdown",
      "source": [
        "### Word Count\n",
        "\n",
        "I am assuming you have the understanding of tokenization, the first figure we can calculate is the word frequency. By word frequency we can find out how many times each tokens appear in the text. When talking about word frequency, we distinguished between types and tokens. Types are the distinct words in a corpus, whereas tokens are the words, including repeats. Let's see ho this works in practice.\n",
        "\n",
        "Let's take an example for better understanding.\n",
        "\n",
        "There is no need to panic. We need to work together, take small yet important measures to ensure self-protection, \"the Prime Minister tweeted.\n",
        "\n",
        "How many tokens and types are there in above sentences?\n",
        "\n",
        "Let's use Python for calculating these figures, First tokenize the sentence by using the tokenize which uses the non-alphabetic characters as a separator"
      ],
      "metadata": {
        "id": "tfNiz3zwQvTK"
      },
      "id": "tfNiz3zwQvTK"
    },
    {
      "cell_type": "markdown",
      "source": [
        "### TOKENIZERS"
      ],
      "metadata": {
        "id": "CEI0k4zWRu7_"
      },
      "id": "CEI0k4zWRu7_"
    },
    {
      "cell_type": "markdown",
      "source": [
        "### NLTK"
      ],
      "metadata": {
        "id": "YqkjexGlRzeO"
      },
      "id": "YqkjexGlRzeO"
    },
    {
      "cell_type": "code",
      "source": [
        "!pip install --user -U nltk"
      ],
      "metadata": {
        "colab": {
          "base_uri": "https://localhost:8080/"
        },
        "id": "AOeFSj82Rspf",
        "outputId": "a6d1abf5-bc53-4c35-dad5-ae76cfb53c8d"
      },
      "id": "AOeFSj82Rspf",
      "execution_count": null,
      "outputs": [
        {
          "output_type": "stream",
          "name": "stdout",
          "text": [
            "Requirement already satisfied: nltk in /usr/local/lib/python3.7/dist-packages (3.2.5)\n",
            "Collecting nltk\n",
            "  Downloading nltk-3.7-py3-none-any.whl (1.5 MB)\n",
            "\u001b[K     |████████████████████████████████| 1.5 MB 6.8 MB/s \n",
            "\u001b[?25hRequirement already satisfied: tqdm in /usr/local/lib/python3.7/dist-packages (from nltk) (4.64.0)\n",
            "Requirement already satisfied: click in /usr/local/lib/python3.7/dist-packages (from nltk) (7.1.2)\n",
            "Collecting regex>=2021.8.3\n",
            "  Downloading regex-2022.3.15-cp37-cp37m-manylinux_2_17_x86_64.manylinux2014_x86_64.whl (749 kB)\n",
            "\u001b[K     |████████████████████████████████| 749 kB 48.2 MB/s \n",
            "\u001b[?25hRequirement already satisfied: joblib in /usr/local/lib/python3.7/dist-packages (from nltk) (1.1.0)\n",
            "Installing collected packages: regex, nltk\n",
            "\u001b[33m  WARNING: The script nltk is installed in '/root/.local/bin' which is not on PATH.\n",
            "  Consider adding this directory to PATH or, if you prefer to suppress this warning, use --no-warn-script-location.\u001b[0m\n",
            "Successfully installed nltk-3.7 regex-2022.3.15\n"
          ]
        }
      ]
    },
    {
      "cell_type": "code",
      "source": [
        "from nltk.tokenize.regexp import WhitespaceTokenizer\n",
        "m = 'There is no need to panic. We need to work tegether, take small yet important measures to ensure self protection'"
      ],
      "metadata": {
        "id": "fwWAhazWR_4A"
      },
      "id": "fwWAhazWR_4A",
      "execution_count": null,
      "outputs": []
    },
    {
      "cell_type": "code",
      "source": [
        "import nltk\n",
        "nltk.download('punkt')"
      ],
      "metadata": {
        "colab": {
          "base_uri": "https://localhost:8080/"
        },
        "id": "Ewj-2jquS3Mt",
        "outputId": "a8773e81-9a2b-4259-9db9-cb0c740ea22a"
      },
      "id": "Ewj-2jquS3Mt",
      "execution_count": null,
      "outputs": [
        {
          "output_type": "stream",
          "name": "stdout",
          "text": [
            "[nltk_data] Downloading package punkt to /root/nltk_data...\n",
            "[nltk_data]   Unzipping tokenizers/punkt.zip.\n"
          ]
        },
        {
          "output_type": "execute_result",
          "data": {
            "text/plain": [
              "True"
            ]
          },
          "metadata": {},
          "execution_count": 8
        }
      ]
    },
    {
      "cell_type": "code",
      "source": [
        "from nltk.tokenize import word_tokenize\n",
        "text = \"\"\" Founded in 2002, SpaceX's mission is to enable humans to become a spacefaring civilization and a multi-planing species by building a self sustaining city on Mars. In 2008, SpaceX Falcon 1 became the first privately developed liquid fuel launch vehicle to orbit the Earch. \"\"\"\n",
        "word_tokenize(text)"
      ],
      "metadata": {
        "colab": {
          "base_uri": "https://localhost:8080/"
        },
        "id": "i52KZRviSTE9",
        "outputId": "b4b9fb54-e675-4f2e-d978-69b04038ec43"
      },
      "id": "i52KZRviSTE9",
      "execution_count": null,
      "outputs": [
        {
          "output_type": "execute_result",
          "data": {
            "text/plain": [
              "['Founded',\n",
              " 'in',\n",
              " '2002',\n",
              " ',',\n",
              " 'SpaceX',\n",
              " \"'s\",\n",
              " 'mission',\n",
              " 'is',\n",
              " 'to',\n",
              " 'enable',\n",
              " 'humans',\n",
              " 'to',\n",
              " 'become',\n",
              " 'a',\n",
              " 'spacefaring',\n",
              " 'civilization',\n",
              " 'and',\n",
              " 'a',\n",
              " 'multi-planing',\n",
              " 'species',\n",
              " 'by',\n",
              " 'building',\n",
              " 'a',\n",
              " 'self',\n",
              " 'sustaining',\n",
              " 'city',\n",
              " 'on',\n",
              " 'Mars',\n",
              " '.',\n",
              " 'In',\n",
              " '2008',\n",
              " ',',\n",
              " 'SpaceX',\n",
              " 'Falcon',\n",
              " '1',\n",
              " 'became',\n",
              " 'the',\n",
              " 'first',\n",
              " 'privately',\n",
              " 'developed',\n",
              " 'liquid',\n",
              " 'fuel',\n",
              " 'launch',\n",
              " 'vehicle',\n",
              " 'to',\n",
              " 'orbit',\n",
              " 'the',\n",
              " 'Earch',\n",
              " '.']"
            ]
          },
          "metadata": {},
          "execution_count": 9
        }
      ]
    },
    {
      "cell_type": "markdown",
      "source": [
        "**Note:** In the above we had used a slighly different syntax for importing the module. You'll recognize by now the variable assignment."
      ],
      "metadata": {
        "id": "B9dpstqFTRXu"
      },
      "id": "B9dpstqFTRXu"
    },
    {
      "cell_type": "code",
      "source": [
        "tokens = WhitespaceTokenizer().tokenize(m)\n",
        "print(len(tokens) )"
      ],
      "metadata": {
        "colab": {
          "base_uri": "https://localhost:8080/"
        },
        "id": "GRZY6Wn9SwQ2",
        "outputId": "20775a2b-7f47-4ab2-8ed4-d8fdb262484c"
      },
      "id": "GRZY6Wn9SwQ2",
      "execution_count": null,
      "outputs": [
        {
          "output_type": "stream",
          "name": "stdout",
          "text": [
            "20\n"
          ]
        }
      ]
    },
    {
      "cell_type": "code",
      "source": [
        "tokens"
      ],
      "metadata": {
        "colab": {
          "base_uri": "https://localhost:8080/"
        },
        "id": "tNsG2we6THQU",
        "outputId": "e431fc5f-064a-4a65-a63b-e332613adc9b"
      },
      "id": "tNsG2we6THQU",
      "execution_count": null,
      "outputs": [
        {
          "output_type": "execute_result",
          "data": {
            "text/plain": [
              "['There',\n",
              " 'is',\n",
              " 'no',\n",
              " 'need',\n",
              " 'to',\n",
              " 'panic.',\n",
              " 'We',\n",
              " 'need',\n",
              " 'to',\n",
              " 'work',\n",
              " 'tegether,',\n",
              " 'take',\n",
              " 'small',\n",
              " 'yet',\n",
              " 'important',\n",
              " 'measures',\n",
              " 'to',\n",
              " 'ensure',\n",
              " 'self',\n",
              " 'protection']"
            ]
          },
          "metadata": {},
          "execution_count": 13
        }
      ]
    },
    {
      "cell_type": "code",
      "source": [
        "my_vocab = set(tokens)\n",
        "print(len(my_vocab))"
      ],
      "metadata": {
        "colab": {
          "base_uri": "https://localhost:8080/"
        },
        "id": "WOlXRlPtTulx",
        "outputId": "2e1f38c5-db1e-44a4-fac9-c03bb141a20a"
      },
      "id": "WOlXRlPtTulx",
      "execution_count": null,
      "outputs": [
        {
          "output_type": "stream",
          "name": "stdout",
          "text": [
            "17\n"
          ]
        }
      ]
    },
    {
      "cell_type": "code",
      "source": [
        "my_vocab"
      ],
      "metadata": {
        "colab": {
          "base_uri": "https://localhost:8080/"
        },
        "id": "CwJZyr4FT17e",
        "outputId": "a5c2f9bc-87da-4503-a46d-0749776ba8d4"
      },
      "id": "CwJZyr4FT17e",
      "execution_count": null,
      "outputs": [
        {
          "output_type": "execute_result",
          "data": {
            "text/plain": [
              "{'There',\n",
              " 'We',\n",
              " 'ensure',\n",
              " 'important',\n",
              " 'is',\n",
              " 'measures',\n",
              " 'need',\n",
              " 'no',\n",
              " 'panic.',\n",
              " 'protection',\n",
              " 'self',\n",
              " 'small',\n",
              " 'take',\n",
              " 'tegether,',\n",
              " 'to',\n",
              " 'work',\n",
              " 'yet'}"
            ]
          },
          "metadata": {},
          "execution_count": 15
        }
      ]
    },
    {
      "cell_type": "code",
      "source": [
        ""
      ],
      "metadata": {
        "id": "uCyGrQ4XT5O1"
      },
      "id": "uCyGrQ4XT5O1",
      "execution_count": null,
      "outputs": []
    },
    {
      "cell_type": "markdown",
      "source": [
        "Now we are going to perform the same operation with different tokenizer"
      ],
      "metadata": {
        "id": "VIXkqz_xT_EC"
      },
      "id": "VIXkqz_xT_EC"
    },
    {
      "cell_type": "code",
      "source": [
        "my_st = 'There is no need to panic, We need to work together, take small yet important measures to ensure self Protection'"
      ],
      "metadata": {
        "id": "sOj7oCm7UHg0"
      },
      "id": "sOj7oCm7UHg0",
      "execution_count": null,
      "outputs": []
    },
    {
      "cell_type": "code",
      "source": [
        "# We will import different tokenizer\n",
        "from nltk.tokenize.regexp import WordPunctTokenizer"
      ],
      "metadata": {
        "id": "9bB2vo0hUTQI"
      },
      "id": "9bB2vo0hUTQI",
      "execution_count": null,
      "outputs": []
    },
    {
      "cell_type": "code",
      "source": [
        "#Above tokenizer also split the words into tokens"
      ],
      "metadata": {
        "id": "WPnaIf10Udwj"
      },
      "id": "WPnaIf10Udwj",
      "execution_count": null,
      "outputs": []
    },
    {
      "cell_type": "code",
      "source": [
        "m_t = WordPunctTokenizer().tokenize(my_st)\n",
        "print(len(m_t))"
      ],
      "metadata": {
        "colab": {
          "base_uri": "https://localhost:8080/"
        },
        "id": "bxcpUH_jUkKH",
        "outputId": "753a1794-e626-4875-d8e1-933a8424998c"
      },
      "id": "bxcpUH_jUkKH",
      "execution_count": null,
      "outputs": [
        {
          "output_type": "stream",
          "name": "stdout",
          "text": [
            "22\n"
          ]
        }
      ]
    },
    {
      "cell_type": "code",
      "source": [
        "m_t"
      ],
      "metadata": {
        "colab": {
          "base_uri": "https://localhost:8080/"
        },
        "id": "M2A4ifK9UsM5",
        "outputId": "1a1a27d4-3070-43ff-8f17-91d66de7af62"
      },
      "id": "M2A4ifK9UsM5",
      "execution_count": null,
      "outputs": [
        {
          "output_type": "execute_result",
          "data": {
            "text/plain": [
              "['There',\n",
              " 'is',\n",
              " 'no',\n",
              " 'need',\n",
              " 'to',\n",
              " 'panic',\n",
              " ',',\n",
              " 'We',\n",
              " 'need',\n",
              " 'to',\n",
              " 'work',\n",
              " 'together',\n",
              " ',',\n",
              " 'take',\n",
              " 'small',\n",
              " 'yet',\n",
              " 'important',\n",
              " 'measures',\n",
              " 'to',\n",
              " 'ensure',\n",
              " 'self',\n",
              " 'Protection']"
            ]
          },
          "metadata": {},
          "execution_count": 27
        }
      ]
    },
    {
      "cell_type": "code",
      "source": [
        ""
      ],
      "metadata": {
        "id": "S3hrCIdvVJ5o"
      },
      "id": "S3hrCIdvVJ5o",
      "execution_count": null,
      "outputs": []
    },
    {
      "cell_type": "markdown",
      "source": [
        "### what is the difference between the above approches?\n",
        "\n",
        "In the first one, vocabulary ends up containing \"words\" and \"words.\" as two distinct words; whereas in second example \"words\" is a token type and \".\" (i.e. the dot) is split into a separate token and this results into a new token type in addition to \"words\""
      ],
      "metadata": {
        "id": "nnk9391fVTPn"
      },
      "id": "nnk9391fVTPn"
    },
    {
      "cell_type": "code",
      "source": [
        "text = 'There is no need to panic. We need to work together. take small yet important measures to ensure self Protection'"
      ],
      "metadata": {
        "id": "t8DrID_NVdtk"
      },
      "id": "t8DrID_NVdtk",
      "execution_count": null,
      "outputs": []
    },
    {
      "cell_type": "code",
      "source": [
        "from nltk.tokenize import sent_tokenize\n",
        "sent_tokenize(text)"
      ],
      "metadata": {
        "colab": {
          "base_uri": "https://localhost:8080/"
        },
        "id": "IATYZx_tWK2H",
        "outputId": "56c7c294-90ef-4886-b99e-5549086420fc"
      },
      "id": "IATYZx_tWK2H",
      "execution_count": null,
      "outputs": [
        {
          "output_type": "execute_result",
          "data": {
            "text/plain": [
              "['There is no need to panic.',\n",
              " 'We need to work together.',\n",
              " 'take small yet important measures to ensure self Protection']"
            ]
          },
          "metadata": {},
          "execution_count": 33
        }
      ]
    },
    {
      "cell_type": "code",
      "source": [
        ""
      ],
      "metadata": {
        "id": "mzHeA2k8WV91"
      },
      "id": "mzHeA2k8WV91",
      "execution_count": null,
      "outputs": []
    },
    {
      "cell_type": "markdown",
      "source": [
        "### Frequency Distribution\n",
        "\n",
        "Counting words in your texts. To give  a brief example of how it works."
      ],
      "metadata": {
        "id": "plfgxR96Wjft"
      },
      "id": "plfgxR96Wjft"
    },
    {
      "cell_type": "code",
      "source": [
        "# from nltk.book import *\n",
        "import nltk\n",
        "# nltk.download('gutenberg')\n",
        "print('\\n\\n\\n')\n",
        "text1 = 'There is no need to panic. We need to work together. take small yet important measures to ensure self Protection'\n",
        "\n",
        "freqdist = nltk.FreqDist(word_tokenize(text1))\n",
        "print(freqdist)"
      ],
      "metadata": {
        "colab": {
          "base_uri": "https://localhost:8080/"
        },
        "id": "pQ5UooeVWmt1",
        "outputId": "2f7aeedd-3130-45e3-f15a-754209c69bdf"
      },
      "id": "pQ5UooeVWmt1",
      "execution_count": null,
      "outputs": [
        {
          "output_type": "stream",
          "name": "stdout",
          "text": [
            "\n",
            "\n",
            "\n",
            "\n",
            "<FreqDist with 18 samples and 22 outcomes>\n"
          ]
        }
      ]
    },
    {
      "cell_type": "markdown",
      "source": [
        "The class **FreqDist** works like a dictionary where keys are the words in the text and the values are count associated with that word. For example, if youwant to see ho many ords \"person \" are in the text, you can type as:"
      ],
      "metadata": {
        "id": "MuVdH0VGXWRA"
      },
      "id": "MuVdH0VGXWRA"
    },
    {
      "cell_type": "code",
      "source": [
        "print(freqdist[\"person\"])"
      ],
      "metadata": {
        "colab": {
          "base_uri": "https://localhost:8080/"
        },
        "id": "Yf1AwiybXTrW",
        "outputId": "517ef08b-f01d-4f24-941f-aac2bb0e84a4"
      },
      "id": "Yf1AwiybXTrW",
      "execution_count": null,
      "outputs": [
        {
          "output_type": "stream",
          "name": "stdout",
          "text": [
            "0\n"
          ]
        }
      ]
    },
    {
      "cell_type": "code",
      "source": [
        "print(freqdist[\"is\"])"
      ],
      "metadata": {
        "colab": {
          "base_uri": "https://localhost:8080/"
        },
        "id": "x7LoqTWIYyE5",
        "outputId": "f60df83e-28aa-44fe-e380-6b560c14370b"
      },
      "id": "x7LoqTWIYyE5",
      "execution_count": null,
      "outputs": [
        {
          "output_type": "stream",
          "name": "stdout",
          "text": [
            "1\n"
          ]
        }
      ]
    },
    {
      "cell_type": "markdown",
      "source": [
        "One of the most important function in freqdist is the Keys() function."
      ],
      "metadata": {
        "id": "hMtYE9aCYBGs"
      },
      "id": "hMtYE9aCYBGs"
    },
    {
      "cell_type": "code",
      "source": [
        "words = freqdist.keys()\n",
        "print(type(words))"
      ],
      "metadata": {
        "colab": {
          "base_uri": "https://localhost:8080/"
        },
        "id": "dYcob0yUXy-2",
        "outputId": "98597d6e-e42e-4845-af1c-3803c1d165ad"
      },
      "id": "dYcob0yUXy-2",
      "execution_count": null,
      "outputs": [
        {
          "output_type": "stream",
          "name": "stdout",
          "text": [
            "<class 'dict_keys'>\n"
          ]
        }
      ]
    },
    {
      "cell_type": "markdown",
      "source": [
        "After running above code, it'll give as class \"dict_keys\", in the other words, you get a list of all the words in your text.\n",
        "\n",
        "And you want to see how many words are there in the text."
      ],
      "metadata": {
        "id": "rwLC7jizYK85"
      },
      "id": "rwLC7jizYK85"
    },
    {
      "cell_type": "code",
      "source": [
        "print(len(words))"
      ],
      "metadata": {
        "colab": {
          "base_uri": "https://localhost:8080/"
        },
        "id": "1RKFCAy-YJSP",
        "outputId": "a42bfc1c-0812-4e8d-d8c1-edf40b2c7498"
      },
      "id": "1RKFCAy-YJSP",
      "execution_count": null,
      "outputs": [
        {
          "output_type": "stream",
          "name": "stdout",
          "text": [
            "18\n"
          ]
        }
      ]
    },
    {
      "cell_type": "markdown",
      "source": [
        "###### In the class nltk.text.Text function do the same stuff, so hat is the difference?\n",
        "\n",
        "The difference is that with FreqDist you can create your own text without the necessity of converting your text to nltk.text.Text Class.\n",
        "\n",
        "And the other usual function is plot. Plot will do like it displays the most used words in your text. So, if you want to see 15 most used words in the text, for example like.\n",
        "\n"
      ],
      "metadata": {
        "id": "gk-gg_NtY9vR"
      },
      "id": "gk-gg_NtY9vR"
    },
    {
      "cell_type": "code",
      "source": [
        "freqdist.plot(15)"
      ],
      "metadata": {
        "colab": {
          "base_uri": "https://localhost:8080/",
          "height": 318
        },
        "id": "RQymLrBvYhTo",
        "outputId": "e33b0470-d959-4067-9c4c-1dc8d9a74f67"
      },
      "id": "RQymLrBvYhTo",
      "execution_count": null,
      "outputs": [
        {
          "output_type": "display_data",
          "data": {
            "text/plain": [
              "<Figure size 432x288 with 1 Axes>"
            ],
            "image/png": "[encoded data removed]"
          },
          "metadata": {
            "needs_background": "light"
          }
        }
      ]
    },
    {
      "cell_type": "code",
      "source": [
        ""
      ],
      "metadata": {
        "id": "zIciJ184ZiTH"
      },
      "id": "zIciJ184ZiTH",
      "execution_count": null,
      "outputs": []
    },
    {
      "cell_type": "markdown",
      "source": [
        "### Personal Frequency Distribution\n",
        "\n",
        "Suppose you want to do frequency distribution based on your own personal text. Let's get started."
      ],
      "metadata": {
        "id": "wI4kHNaOZqbA"
      },
      "id": "wI4kHNaOZqbA"
    },
    {
      "cell_type": "code",
      "source": [
        "from nltk import FreqDist\n",
        "\n",
        "sent = 'There is no need to panic. We need to work together. take small yet important measures to ensure self Protection'\n",
        "\n",
        "text_list = sent.split(\" \")\n",
        "freqDist = FreqDist(text_list)\n",
        "words = list(freqDist.keys())\n",
        "\n",
        "print(freqDist['need'])"
      ],
      "metadata": {
        "colab": {
          "base_uri": "https://localhost:8080/"
        },
        "id": "wPHS1IY5Z6sI",
        "outputId": "8998fb31-c188-4863-f7e7-f65ea613addf"
      },
      "id": "wPHS1IY5Z6sI",
      "execution_count": null,
      "outputs": [
        {
          "output_type": "stream",
          "name": "stdout",
          "text": [
            "2\n"
          ]
        }
      ]
    },
    {
      "cell_type": "code",
      "source": [
        "freqDist.plot(20)"
      ],
      "metadata": {
        "colab": {
          "base_uri": "https://localhost:8080/",
          "height": 320
        },
        "id": "ExM2m3IJaW7S",
        "outputId": "4bc35228-6ad2-46ce-eeb0-1b38dc6ec354"
      },
      "id": "ExM2m3IJaW7S",
      "execution_count": null,
      "outputs": [
        {
          "output_type": "display_data",
          "data": {
            "text/plain": [
              "<Figure size 432x288 with 1 Axes>"
            ],
            "image/png": "[encoded data removed]"
          },
          "metadata": {
            "needs_background": "light"
          }
        }
      ]
    },
    {
      "cell_type": "markdown",
      "source": [
        "In the first line, you don't have to import nltk.book to use the FreqDist class.\n",
        "\n",
        "We then declare sent and text_list variables. The variable sent is your custom text and the variable text_list is a list that contains all the words of your custom text. You can see that we used sent.split(\"\") to separate the words.\n",
        "\n",
        "Then you have to variable freqDist and words. freqDist is an object of the FreqDist class is for the text you have given and words is the list of all keys of freqDist.\n",
        "\n",
        "The last line of code is where you print your results. In this example, your code will print the count of the wor \"need\"\n",
        "\n",
        "If you replace \"need\" with \"Prime\", you can see that it will return 1 instead of 2. This is because nltk indexing is case-sensitive. To avoid this, you can use the .lower() function in the variable text."
      ],
      "metadata": {
        "id": "cQqYvmjQg8vo"
      },
      "id": "cQqYvmjQg8vo"
    },
    {
      "cell_type": "code",
      "source": [
        ""
      ],
      "metadata": {
        "id": "f2336vpuaalD"
      },
      "id": "f2336vpuaalD",
      "execution_count": null,
      "outputs": []
    }
  ],
  "metadata": {
    "kernelspec": {
      "display_name": "Python 3 (ipykernel)",
      "language": "python",
      "name": "python3"
    },
    "language_info": {
      "codemirror_mode": {
        "name": "ipython",
        "version": 3
      },
      "file_extension": ".py",
      "mimetype": "text/x-python",
      "name": "python",
      "nbconvert_exporter": "python",
      "pygments_lexer": "ipython3",
      "version": "3.9.0"
    },
    "colab": {
      "name": "Text_processing_NLP.ipynb",
      "provenance": []
    }
  },
  "nbformat": 4,
  "nbformat_minor": 5
}